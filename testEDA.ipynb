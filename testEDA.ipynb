{
 "cells": [
  {
   "cell_type": "code",
   "execution_count": 14,
   "metadata": {},
   "outputs": [],
   "source": [
    "import networkx as nx\n",
    "import powerlaw as pl\n",
    "import matplotlib.pyplot as plt\n",
    "import numpy as np\n",
    "import pandas as pd\n",
    "from collections import Counter \n",
    "\n",
    "import warnings\n",
    "warnings.filterwarnings(\"ignore\", category=FutureWarning)"
   ]
  },
  {
   "cell_type": "code",
   "execution_count": 15,
   "metadata": {},
   "outputs": [],
   "source": [
    "G = nx.read_edgelist('LFM1.csv', delimiter=',')"
   ]
  },
  {
   "cell_type": "code",
   "execution_count": 16,
   "metadata": {},
   "outputs": [
    {
     "name": "stdout",
     "output_type": "stream",
     "text": [
      "Graph with 7624 nodes and 27806 edges\n"
     ]
    }
   ],
   "source": [
    "print(G)\n",
    "# G.in_degree()"
   ]
  },
  {
   "cell_type": "code",
   "execution_count": 17,
   "metadata": {},
   "outputs": [],
   "source": [
    "def generate_ccdf(G):\n",
    "    dd = Counter(dict(G.degree).values())\n",
    "    dd = pd.DataFrame(list(dd.items()), columns = (\"k\", \"count\")).sort_values(by = \"k\")\n",
    "    ccdf = dd.sort_values(by = \"k\", ascending = False)\n",
    "    ccdf[\"cumsum\"] = ccdf[\"count\"].cumsum()\n",
    "    ccdf[\"ccdf\"] = ccdf[\"cumsum\"] / ccdf[\"count\"].sum()\n",
    "    ccdf = ccdf[[\"k\", \"ccdf\"]].sort_values(by = \"k\")\n",
    "\n",
    "    results = pl.Fit(ccdf[\"ccdf\"])\n",
    "    k_min = ccdf[ccdf[\"ccdf\"] == results.power_law.xmin][\"k\"]\n",
    "    print(\"Powerlaw CCDF Fit: %1.4f x ^ -%1.4f (k_min = %d)\" % (10 ** results.power_law.Kappa, \n",
    "                                                                results.power_law.alpha, k_min))\n",
    "\n",
    "   # Let's plot the best fit.\n",
    "    ccdf[\"fit\"] = (10 ** results.power_law.Kappa) * (ccdf[\"k\"] ** -results.power_law.alpha)\n",
    "    ax = plt.gca()\n",
    "    ccdf.plot(kind = \"line\", x = \"k\", y = \"ccdf\", color = \"#e41a1c\", loglog = True, ax = ax)\n",
    "    ccdf.plot(kind = \"line\", x = \"k\", y = \"fit\", color = \"#377eb8\", loglog = True, ax = ax)\n",
    "    plt.ylim(bottom=0.0001)\n",
    "    return None"
   ]
  },
  {
   "cell_type": "code",
   "execution_count": 18,
   "metadata": {},
   "outputs": [],
   "source": [
    "def logscatter(G):\n",
    "    d = dict(G.degree)\n",
    "    # turn into a count of degree (the values of the dict)\n",
    "    counter = Counter(d.values())\n",
    "    # Make it into a dataframe\n",
    "    counter = pd.DataFrame(list(counter.items()), columns = (\"k\", \"count\")).sort_values(by = \"k\")\n",
    "    plt.scatter(np.log2(counter['k']), np.log2(counter['count']), c = 'blue', s=10, alpha=0.5)\n",
    "    plt.title(\"log-log degree distr.\")\n",
    "    plt.savefig(\"loglog_degree_distribution.png\")\n",
    "    plt.show()\n",
    "    return None"
   ]
  },
  {
   "cell_type": "code",
   "execution_count": 19,
   "metadata": {},
   "outputs": [
    {
     "data": {
      "image/png": "[encoded data removed]",
      "text/plain": [
       "<Figure size 432x288 with 1 Axes>"
      ]
     },
     "metadata": {
      "needs_background": "light"
     },
     "output_type": "display_data"
    }
   ],
   "source": [
    "logscatter(G)"
   ]
  },
  {
   "cell_type": "code",
   "execution_count": 21,
   "metadata": {},
   "outputs": [
    {
     "name": "stdout",
     "output_type": "stream",
     "text": [
      "Calculating best minimal value for power law fit\n",
      "xmin progress: 00%\r",
      "xmin progress: 01%\r",
      "xmin progress: 02%\r",
      "xmin progress: 03%\r",
      "xmin progress: 04%\r",
      "xmin progress: 05%\r",
      "xmin progress: 06%\r",
      "xmin progress: 07%\r",
      "xmin progress: 08%\r",
      "xmin progress: 09%\r",
      "xmin progress: 10%\r",
      "xmin progress: 11%\r",
      "xmin progress: 12%\r",
      "xmin progress: 13%\r",
      "xmin progress: 14%\r",
      "xmin progress: 15%\r",
      "xmin progress: 16%\r",
      "xmin progress: 17%\r",
      "xmin progress: 18%\r",
      "xmin progress: 19%\r",
      "xmin progress: 20%\r",
      "xmin progress: 21%\r",
      "xmin progress: 22%\r",
      "xmin progress: 23%\r",
      "xmin progress: 24%\r",
      "xmin progress: 25%\r",
      "xmin progress: 26%\r",
      "xmin progress: 27%\r",
      "xmin progress: 28%\r",
      "xmin progress: 29%\r",
      "xmin progress: 30%\r",
      "xmin progress: 31%\r",
      "xmin progress: 32%\r",
      "xmin progress: 34%\r",
      "xmin progress: 35%\r",
      "xmin progress: 36%\r",
      "xmin progress: 37%\r",
      "xmin progress: 38%\r",
      "xmin progress: 39%\r",
      "xmin progress: 40%\r",
      "xmin progress: 41%\r",
      "xmin progress: 42%\r",
      "xmin progress: 43%\r",
      "xmin progress: 44%\r",
      "xmin progress: 45%\r",
      "xmin progress: 46%\r",
      "xmin progress: 47%\r",
      "xmin progress: 48%\r",
      "xmin progress: 49%\r",
      "xmin progress: 50%\r",
      "xmin progress: 51%\r",
      "xmin progress: 52%\r",
      "xmin progress: 53%\r",
      "xmin progress: 54%\r",
      "xmin progress: 55%\r",
      "xmin progress: 56%\r",
      "xmin progress: 57%\r",
      "xmin progress: 58%\r",
      "xmin progress: 59%\r",
      "xmin progress: 60%\r",
      "xmin progress: 61%\r",
      "xmin progress: 62%\r",
      "xmin progress: 63%\r",
      "xmin progress: 64%\r",
      "xmin progress: 65%\r",
      "xmin progress: 67%\r",
      "xmin progress: 68%\r",
      "xmin progress: 69%\r",
      "xmin progress: 70%\r",
      "xmin progress: 71%\r",
      "xmin progress: 72%\r",
      "xmin progress: 73%\r",
      "xmin progress: 74%\r",
      "xmin progress: 75%\r",
      "xmin progress: 76%\r",
      "xmin progress: 77%\r",
      "xmin progress: 78%\r",
      "xmin progress: 79%\r",
      "xmin progress: 80%\r",
      "xmin progress: 81%\r",
      "xmin progress: 82%\r",
      "xmin progress: 83%\r",
      "xmin progress: 84%\r",
      "xmin progress: 85%\r",
      "xmin progress: 86%\r",
      "xmin progress: 87%\r",
      "xmin progress: 88%\r",
      "xmin progress: 89%\r",
      "xmin progress: 90%\r",
      "xmin progress: 91%\r",
      "xmin progress: 92%\r",
      "xmin progress: 93%\r",
      "xmin progress: 94%\r",
      "xmin progress: 95%\r",
      "xmin progress: 96%\r",
      "xmin progress: 97%\r",
      "xmin progress: 98%\r",
      "Powerlaw CCDF Fit: 11.0660 x ^ -1.5454 (k_min = 69)\n"
     ]
    },
    {
     "data": {
      "image/png": "[encoded data removed]",
      "text/plain": [
       "<Figure size 432x288 with 1 Axes>"
      ]
     },
     "metadata": {
      "needs_background": "light"
     },
     "output_type": "display_data"
    }
   ],
   "source": [
    "generate_ccdf(G)\n",
    "plt.title(\"CCDF and powerlaw fit for graph's degree\");"
   ]
  },
  {
   "cell_type": "code",
   "execution_count": 24,
   "metadata": {},
   "outputs": [
    {
     "name": "stdout",
     "output_type": "stream",
     "text": [
      "Transitivity for full network: 0.178622548153384\n",
      "Average clustering coeff.: 0.2194184243270858\n"
     ]
    }
   ],
   "source": [
    "#global cluster coef = transitivity\n",
    "trans = nx.transitivity(G)\n",
    "print(f\"Transitivity for full network: {trans}\")\n",
    "\n",
    "#nx.clustering = local cluster coef\n",
    "cc = nx.clustering(G)\n",
    "# print(f\"CC for full network: {cc}\")\n",
    "\n",
    "#average cc\n",
    "avgcc = sum(cc.values())/len(cc.values())\n",
    "print(f\"Average clustering coeff.: {avgcc}\")\n",
    "\n",
    "# def p(Graph):\n",
    "#     return len(Graph.edges) / ((len(Graph.nodes) * (len(Graph.nodes)-1)) / 2)\n",
    "\n",
    "# print(\"The parameter p for the graph: \", p(G))"
   ]
  },
  {
   "cell_type": "code",
   "execution_count": 25,
   "metadata": {},
   "outputs": [],
   "source": [
    "#taking the largest strongly connected component\n",
    "scc = max(nx.connected_components(G), key=len)"
   ]
  },
  {
   "cell_type": "code",
   "execution_count": 26,
   "metadata": {},
   "outputs": [
    {
     "data": {
      "text/plain": [
       "7624"
      ]
     },
     "execution_count": 26,
     "metadata": {},
     "output_type": "execute_result"
    }
   ],
   "source": [
    "len(scc)"
   ]
  },
  {
   "cell_type": "code",
   "execution_count": 27,
   "metadata": {},
   "outputs": [
    {
     "data": {
      "text/plain": [
       "0.01707317256063152"
      ]
     },
     "execution_count": 27,
     "metadata": {},
     "output_type": "execute_result"
    }
   ],
   "source": [
    "ass = nx.degree_assortativity_coefficient(G)\n",
    "ass"
   ]
  },
  {
   "cell_type": "code",
   "execution_count": 45,
   "metadata": {},
   "outputs": [
    {
     "name": "stdout",
     "output_type": "stream",
     "text": [
      "Modularity: 0.7955830887901616\n"
     ]
    }
   ],
   "source": [
    "from networkx.algorithms.community import greedy_modularity_communities\n",
    "from networkx.algorithms.community.quality import modularity\n",
    "\n",
    "communities = list(greedy_modularity_communities(G))\n",
    "\n",
    "community_dict = {}\n",
    "for i, comm in enumerate(communities):\n",
    "    for node in comm:\n",
    "        community_dict[node] = i\n",
    "\n",
    "modularity_value = modularity(G, [comm for comm in communities])\n",
    "print(\"Modularity:\", modularity_value)"
   ]
  },
  {
   "cell_type": "code",
   "execution_count": 58,
   "metadata": {},
   "outputs": [
    {
     "name": "stdout",
     "output_type": "stream",
     "text": [
      "Communities: 28\n"
     ]
    }
   ],
   "source": [
    "import community\n",
    "partition = community.best_partition(G)\n",
    "\n",
    "communities = {}\n",
    "for node, comm_id in partition.items():\n",
    "    if comm_id not in communities:\n",
    "        communities[comm_id] = [node]\n",
    "    else:\n",
    "        communities[comm_id].append(node)\n",
    "\n",
    "cumnum = list(communities.keys())\n",
    "print(\"Communities:\", len(communities.keys()))\n",
    "# cumnum.sort()\n",
    "# print(cumnum)"
   ]
  },
  {
   "cell_type": "code",
   "execution_count": 60,
   "metadata": {},
   "outputs": [
    {
     "name": "stdout",
     "output_type": "stream",
     "text": [
      "Highest degree nodes in each respective community:  {0: '1792', 1: '4811', 2: '4785', 3: '6241', 4: '3530', 5: '7199', 6: '2854', 7: '6769', 8: '7237', 9: '1325', 10: '524', 11: '6101', 12: '1464', 13: '2805', 14: '5851', 15: '5117', 16: '7268', 17: '2160', 18: '4033', 19: '1674', 20: '4356', 21: '6817', 22: '5461', 23: '7501', 24: '7557', 25: '7480', 26: '2019', 27: '1267'}\n"
     ]
    }
   ],
   "source": [
    "from networkx.algorithms import community\n",
    "high_deg_node_dict = {}\n",
    "for i in range(len(cumnum)):\n",
    "    target_community = i\n",
    "    nodes_in_community = [node for node, comm_id in partition.items() if comm_id == target_community]\n",
    "    degrees = G.degree(nodes_in_community)\n",
    "    node_with_highest_degree = max(degrees, key=lambda x: x[1])\n",
    "    high_deg_node_dict[i] = node_with_highest_degree[0]\n",
    "    #print(\"Node with the highest degree in the community:\", node_with_highest_degree[0])\n",
    "\n",
    "print(\"Highest degree nodes in each respective community: \", high_deg_node_dict)"
   ]
  },
  {
   "cell_type": "code",
   "execution_count": 69,
   "metadata": {},
   "outputs": [
    {
     "name": "stdout",
     "output_type": "stream",
     "text": [
      "The largest community's ID is: 11\n"
     ]
    }
   ],
   "source": [
    "community_sizes = {comm_id: sum(1 for node in partition.values() if node == comm_id) \n",
    "                  for comm_id in set(partition.values())}\n",
    "largest_community_id = max(community_sizes, key=community_sizes.get)\n",
    "print(\"The largest community's ID is:\", largest_community_id)\n",
    "#community_sizes"
   ]
  },
  {
   "cell_type": "code",
   "execution_count": null,
   "metadata": {},
   "outputs": [],
   "source": []
  }
 ],
 "metadata": {
  "kernelspec": {
   "display_name": "Python 3 (ipykernel)",
   "language": "python",
   "name": "python3"
  },
  "language_info": {
   "codemirror_mode": {
    "name": "ipython",
    "version": 3
   },
   "file_extension": ".py",
   "mimetype": "text/x-python",
   "name": "python",
   "nbconvert_exporter": "python",
   "pygments_lexer": "ipython3",
   "version": "3.9.12"
  }
 },
 "nbformat": 4,
 "nbformat_minor": 2
}
