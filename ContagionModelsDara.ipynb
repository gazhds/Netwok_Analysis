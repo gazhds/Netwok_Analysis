{
 "cells": [
  {
   "cell_type": "code",
   "execution_count": 92,
   "metadata": {},
   "outputs": [],
   "source": [
    "import networkx as nx\n",
    "import powerlaw as pl\n",
    "import matplotlib.pyplot as plt\n",
    "import numpy as np\n",
    "import pandas as pd\n",
    "from collections import Counter \n",
    "from networkx.algorithms.community.quality import modularity\n",
    "import EoN\n",
    "\n",
    "import warnings\n",
    "warnings.filterwarnings(\"ignore\", category=FutureWarning)"
   ]
  },
  {
   "cell_type": "code",
   "execution_count": 9,
   "metadata": {},
   "outputs": [],
   "source": [
    "G = nx.read_edgelist('LFM1.csv', delimiter=',')"
   ]
  },
  {
   "cell_type": "code",
   "execution_count": 10,
   "metadata": {},
   "outputs": [
    {
     "name": "stdout",
     "output_type": "stream",
     "text": [
      "Graph with 7624 nodes and 27806 edges\n"
     ]
    }
   ],
   "source": [
    "print(G)\n",
    "# G.in_degree()"
   ]
  },
  {
   "cell_type": "code",
   "execution_count": 11,
   "metadata": {},
   "outputs": [],
   "source": [
    "# import networkx as nx\n",
    "# import EoN\n",
    "# import matplotlib.pyplot as plt\n",
    "\n",
    "# # Parameters\n",
    "# beta = 0.2  # transmission rate\n",
    "# gamma = 0.01  # recovery rate\n",
    "# initial_infected = [1] #starting point \n",
    "# G = nx.convert_node_labels_to_integers(G, first_label=0)\n",
    "\n",
    "# # Run the SIR model on the network\n",
    "# t, S, I, R = EoN.fast_SIR(G, beta, gamma, initial_infecteds = initial_infected)\n",
    "\n",
    "# # Plot the results\n",
    "# plt.plot(t, S, label='Susceptible')\n",
    "# plt.plot(t, I, label='Infected')\n",
    "# plt.plot(t, R, label='Recovered')\n",
    "# plt.xlabel('Time')\n",
    "# plt.ylabel('Number of nodes')\n",
    "# plt.title('SIR Model on Network')\n",
    "# plt.legend()\n",
    "# plt.show()\n"
   ]
  },
  {
   "cell_type": "markdown",
   "metadata": {},
   "source": [
    "Now we are going to do community discovery. We are going to use networkx module **community**."
   ]
  },
  {
   "cell_type": "code",
   "execution_count": 32,
   "metadata": {},
   "outputs": [],
   "source": [
    "# Run Label Propagation algorithm\n",
    "# import community\n",
    "# communities_lp = nx.algorithms.community.label_propagation.label_propagation_communities(G)\n",
    "communities_louvain = nx.algorithms.community.louvain_communities(G)\n",
    "# communities_greedy_mod = nx.algorithms.community.greedy_modularity_communities(G)\n",
    "\n",
    "# Convert communities to a list for better visualization\n",
    "# communities_list_lp = [list(community) for community in communities_lp]\n",
    "communities_list_louvain = [list(community) for community in communities_louvain]\n",
    "# communities_list_gm = [list(community) for community in communities_greedy_mod]\n",
    "\n",
    "# Print the detected communities\n",
    "# print(\"Detected Communities:\")\n",
    "# for i, community in enumerate(communities_list):\n",
    "#     print(f\"Community {i + 1}: {community}\")\n"
   ]
  },
  {
   "cell_type": "code",
   "execution_count": 33,
   "metadata": {},
   "outputs": [
    {
     "name": "stdout",
     "output_type": "stream",
     "text": [
      "28\n",
      "0.815578798395552\n"
     ]
    }
   ],
   "source": [
    "# print(len(communities_list_lp))\n",
    "print(len(communities_list_louvain))\n",
    "# print(len(communities_list_gm))\n",
    "\n",
    "# modularity_lp = modularity(G, communities_list_lp)\n",
    "modularity_louvain = modularity(G, communities_list_louvain) #the chosen one\n",
    "# modularity_gm = modularity(G, communities_list_gm)\n",
    "# print(modularity_lp)\n",
    "print(modularity_louvain)\n",
    "# print(modularity_gm)\n",
    "#print modularity"
   ]
  },
  {
   "cell_type": "code",
   "execution_count": 75,
   "metadata": {},
   "outputs": [
    {
     "name": "stdout",
     "output_type": "stream",
     "text": [
      "[15.87093389296957, 13.496852046169987, 11.975341028331584, 11.149003147953831, 8.656873032528855, 8.06663168940189, 7.043546694648478, 5.7056663168940185, 3.7381951731374605, 2.977439664218258, 2.046169989506821, 1.993704092339979, 1.9674711437565582, 0.944386149003148]\n"
     ]
    }
   ],
   "source": [
    "lengths_com = [(len(c)/7624)*100 for c in communities_list_louvain]\n",
    "# lengths_com = [len(c) for c in communities_list_louvain]\n",
    "print(sorted(lengths_com, reverse=True)[:14])"
   ]
  },
  {
   "cell_type": "code",
   "execution_count": 35,
   "metadata": {},
   "outputs": [
    {
     "data": {
      "text/plain": [
       "4"
      ]
     },
     "execution_count": 35,
     "metadata": {},
     "output_type": "execute_result"
    }
   ],
   "source": [
    "min([len(c) for c in communities_list_louvain])"
   ]
  },
  {
   "cell_type": "markdown",
   "metadata": {},
   "source": [
    "We chose louvain communities algorithm, because it gives highest modularity and a stable number of communities (read more about it). \n",
    "\n",
    "We saw there are some communities on the bottom that only contain 5-4 nodes, so we will ignore them (why? - think of good reason). \n",
    "\n",
    "So we take the top 16 communities, each containing more than 1% of the nodes in the network.\n",
    "\n",
    "From those we choose the biggest, smallest and middle one and see how the contagion spreads when we infect the nodes in them with highes degree/betweenness centrality. That should give us 3 different models. For each of them we will try several combinations of infection and recovery rate.\n",
    "\n",
    "We want to also see a random case in which we randomly choose a node/3 nodes from the network, regardless of community.\n",
    "\n",
    "OUR RESEARCH QUESTION: **Is the speed of the spread influenced by the size of the community associated with the initial node?**"
   ]
  },
  {
   "cell_type": "code",
   "execution_count": 36,
   "metadata": {},
   "outputs": [],
   "source": [
    "#limitation: not 100% likely that people will be in a single disjoint community; in future we are going to extend this to overlapping communities."
   ]
  },
  {
   "cell_type": "code",
   "execution_count": 69,
   "metadata": {},
   "outputs": [],
   "source": [
    "between_centr = nx.betweenness_centrality(G)"
   ]
  },
  {
   "cell_type": "code",
   "execution_count": 70,
   "metadata": {},
   "outputs": [],
   "source": [
    "#enumerating the communities\n",
    "communities = dict()\n",
    "com_size = dict()\n",
    "for i in range(len(communities_list_louvain)):\n",
    "    communities[i]=communities_list_louvain[i]\n",
    "    com_size[i] = len(communities_list_louvain[i])"
   ]
  },
  {
   "cell_type": "code",
   "execution_count": 71,
   "metadata": {},
   "outputs": [],
   "source": [
    "#the communities sorted in descending order by size\n",
    "communities_sorted_desc = sorted(communities, key=lambda k: len(communities[k]), reverse=True)"
   ]
  },
  {
   "cell_type": "code",
   "execution_count": 80,
   "metadata": {},
   "outputs": [],
   "source": [
    "def find_betw(com_id, communities=communities):\n",
    "    '''Function returns the node with largest betweennes centrality from a given community'''\n",
    "    community = communities[com_id]\n",
    "    lis = [between_centr[node] for node in community]\n",
    "    value = [i for i in between_centr if between_centr[i]==max(lis)]\n",
    "    return int(value[0])\n",
    "\n",
    "    "
   ]
  },
  {
   "cell_type": "code",
   "execution_count": 89,
   "metadata": {},
   "outputs": [
    {
     "data": {
      "text/plain": [
       "4356"
      ]
     },
     "execution_count": 89,
     "metadata": {},
     "output_type": "execute_result"
    }
   ],
   "source": [
    "#community #27 is the smallest one from those with >1% nodes, its size is 72\n",
    "node_l_bc = find_betw(15, communities=communities)\n",
    "node_l_bc"
   ]
  },
  {
   "cell_type": "code",
   "execution_count": 96,
   "metadata": {},
   "outputs": [
    {
     "data": {
      "image/png": "[encoded data removed]",
      "text/plain": [
       "<Figure size 640x480 with 1 Axes>"
      ]
     },
     "metadata": {},
     "output_type": "display_data"
    }
   ],
   "source": [
    "# Parameters\n",
    "beta = 0.5  # transmission rate\n",
    "gamma = 0.2  # recovery rate\n",
    "initial_infected = [3571] #starting point \n",
    "G = nx.convert_node_labels_to_integers(G, first_label=0)\n",
    "\n",
    "# Run the SIR model on the network\n",
    "t, S, I, R = EoN.fast_SIR(G, beta, gamma, initial_infecteds = initial_infected)\n",
    "\n",
    "# Plot the results\n",
    "plt.plot(t, S, label='Susceptible')\n",
    "plt.plot(t, I, label='Infected')\n",
    "plt.plot(t, R, label='Recovered')\n",
    "plt.xlabel('Time')\n",
    "plt.ylabel('Number of nodes')\n",
    "plt.title('SIR Model when starting from middle sized community')\n",
    "plt.legend()\n",
    "plt.show()"
   ]
  },
  {
   "cell_type": "code",
   "execution_count": null,
   "metadata": {},
   "outputs": [],
   "source": []
  }
 ],
 "metadata": {
  "kernelspec": {
   "display_name": "Python 3",
   "language": "python",
   "name": "python3"
  },
  "language_info": {
   "codemirror_mode": {
    "name": "ipython",
    "version": 3
   },
   "file_extension": ".py",
   "mimetype": "text/x-python",
   "name": "python",
   "nbconvert_exporter": "python",
   "pygments_lexer": "ipython3",
   "version": "3.10.11"
  }
 },
 "nbformat": 4,
 "nbformat_minor": 2
}
