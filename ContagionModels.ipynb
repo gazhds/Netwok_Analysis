{
 "cells": [
  {
   "cell_type": "code",
   "execution_count": 1,
   "metadata": {},
   "outputs": [],
   "source": [
    "import networkx as nx\n",
    "import powerlaw as pl\n",
    "import matplotlib.pyplot as plt\n",
    "import numpy as np\n",
    "import pandas as pd\n",
    "from collections import Counter \n",
    "\n",
    "import warnings\n",
    "warnings.filterwarnings(\"ignore\", category=FutureWarning)"
   ]
  },
  {
   "cell_type": "code",
   "execution_count": 2,
   "metadata": {},
   "outputs": [],
   "source": [
    "G = nx.read_edgelist('LFM1.csv', delimiter=',')"
   ]
  },
  {
   "cell_type": "code",
   "execution_count": 3,
   "metadata": {},
   "outputs": [
    {
     "name": "stdout",
     "output_type": "stream",
     "text": [
      "Graph with 7624 nodes and 27806 edges\n"
     ]
    }
   ],
   "source": [
    "print(G)\n",
    "# G.in_degree()"
   ]
  },
  {
   "cell_type": "code",
   "execution_count": null,
   "metadata": {},
   "outputs": [],
   "source": [
    "# import networkx as nx\n",
    "# import EoN\n",
    "# import matplotlib.pyplot as plt\n",
    "\n",
    "# # Parameters\n",
    "# beta = 0.2  # transmission rate\n",
    "# gamma = 0.01  # recovery rate\n",
    "# initial_infected = [1] #starting point \n",
    "# G = nx.convert_node_labels_to_integers(G, first_label=0)\n",
    "\n",
    "# # Run the SIR model on the network\n",
    "# t, S, I, R = EoN.fast_SIR(G, beta, gamma, initial_infecteds = initial_infected)\n",
    "\n",
    "# # Plot the results\n",
    "# plt.plot(t, S, label='Susceptible')\n",
    "# plt.plot(t, I, label='Infected')\n",
    "# plt.plot(t, R, label='Recovered')\n",
    "# plt.xlabel('Time')\n",
    "# plt.ylabel('Number of nodes')\n",
    "# plt.title('SIR Model on Network')\n",
    "# plt.legend()\n",
    "# plt.show()\n"
   ]
  },
  {
   "cell_type": "markdown",
   "metadata": {},
   "source": [
    "Now we are going to do community discovery. We are going to use networkx module **community**."
   ]
  },
  {
   "cell_type": "markdown",
   "metadata": {},
   "source": []
  }
 ],
 "metadata": {
  "kernelspec": {
   "display_name": "Python 3",
   "language": "python",
   "name": "python3"
  },
  "language_info": {
   "codemirror_mode": {
    "name": "ipython",
    "version": 3
   },
   "file_extension": ".py",
   "mimetype": "text/x-python",
   "name": "python",
   "nbconvert_exporter": "python",
   "pygments_lexer": "ipython3",
   "version": "3.10.11"
  }
 },
 "nbformat": 4,
 "nbformat_minor": 2
}
