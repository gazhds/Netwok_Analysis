{
 "cells": [
  {
   "cell_type": "code",
   "execution_count": 29,
   "metadata": {},
   "outputs": [],
   "source": [
    "import networkx as nx\n",
    "import powerlaw as pl\n",
    "import matplotlib.pyplot as plt\n",
    "import numpy as np\n",
    "import pandas as pd\n",
    "from collections import Counter \n",
    "from networkx.algorithms.community.quality import modularity\n",
    "\n",
    "import warnings\n",
    "warnings.filterwarnings(\"ignore\", category=FutureWarning)"
   ]
  },
  {
   "cell_type": "code",
   "execution_count": 30,
   "metadata": {},
   "outputs": [],
   "source": [
    "G = nx.read_edgelist('LFM1.csv', delimiter=',')"
   ]
  },
  {
   "cell_type": "code",
   "execution_count": 31,
   "metadata": {},
   "outputs": [
    {
     "name": "stdout",
     "output_type": "stream",
     "text": [
      "Graph with 7624 nodes and 27806 edges\n"
     ]
    }
   ],
   "source": [
    "print(G)\n",
    "# G.in_degree()"
   ]
  },
  {
   "cell_type": "code",
   "execution_count": 5,
   "metadata": {},
   "outputs": [],
   "source": [
    "# import networkx as nx\n",
    "# import EoN\n",
    "# import matplotlib.pyplot as plt\n",
    "\n",
    "# # Parameters\n",
    "# beta = 0.2  # transmission rate\n",
    "# gamma = 0.01  # recovery rate\n",
    "# initial_infected = [1] #starting point \n",
    "# G = nx.convert_node_labels_to_integers(G, first_label=0)\n",
    "\n",
    "# # Run the SIR model on the network\n",
    "# t, S, I, R = EoN.fast_SIR(G, beta, gamma, initial_infecteds = initial_infected)\n",
    "\n",
    "# # Plot the results\n",
    "# plt.plot(t, S, label='Susceptible')\n",
    "# plt.plot(t, I, label='Infected')\n",
    "# plt.plot(t, R, label='Recovered')\n",
    "# plt.xlabel('Time')\n",
    "# plt.ylabel('Number of nodes')\n",
    "# plt.title('SIR Model on Network')\n",
    "# plt.legend()\n",
    "# plt.show()\n"
   ]
  },
  {
   "cell_type": "markdown",
   "metadata": {},
   "source": [
    "Now we are going to do community discovery. We are going to use networkx module **community**."
   ]
  },
  {
   "cell_type": "code",
   "execution_count": 34,
   "metadata": {},
   "outputs": [],
   "source": [
    "# Run Label Propagation algorithm\n",
    "# import community\n",
    "communities_lp = nx.algorithms.community.label_propagation.label_propagation_communities(G)\n",
    "communities_louvain = nx.algorithms.community.louvain_communities(G)\n",
    "communities_greedy_mod = nx.algorithms.community.greedy_modularity_communities(G)\n",
    "\n",
    "# Convert communities to a list for better visualization\n",
    "communities_list_lp = [list(community) for community in communities_lp]\n",
    "communities_list_louvain = [list(community) for community in communities_louvain]\n",
    "communities_list_gm = [list(community) for community in communities_greedy_mod]\n",
    "\n",
    "# Print the detected communities\n",
    "# print(\"Detected Communities:\")\n",
    "# for i, community in enumerate(communities_list):\n",
    "#     print(f\"Community {i + 1}: {community}\")\n"
   ]
  },
  {
   "cell_type": "code",
   "execution_count": 35,
   "metadata": {},
   "outputs": [
    {
     "name": "stdout",
     "output_type": "stream",
     "text": [
      "650\n",
      "28\n",
      "44\n",
      "0.7522556757225006\n",
      "0.8156435619850856\n",
      "0.7955830887901616\n"
     ]
    }
   ],
   "source": [
    "print(len(communities_list_lp))\n",
    "print(len(communities_list_louvain))\n",
    "print(len(communities_list_gm))\n",
    "\n",
    "modularity_lp = modularity(G, communities_list_lp)\n",
    "modularity_louvain = modularity(G, communities_list_louvain)\n",
    "modularity_gm = modularity(G, communities_list_gm)\n",
    "print(modularity_lp)\n",
    "print(modularity_louvain)\n",
    "print(modularity_gm)\n",
    "#print modularity"
   ]
  },
  {
   "cell_type": "code",
   "execution_count": 27,
   "metadata": {},
   "outputs": [
    {
     "data": {
      "text/plain": [
       "1519"
      ]
     },
     "execution_count": 27,
     "metadata": {},
     "output_type": "execute_result"
    }
   ],
   "source": [
    "max([len(c) for c in communities_list_gm])"
   ]
  },
  {
   "cell_type": "code",
   "execution_count": 28,
   "metadata": {},
   "outputs": [
    {
     "data": {
      "text/plain": [
       "3"
      ]
     },
     "execution_count": 28,
     "metadata": {},
     "output_type": "execute_result"
    }
   ],
   "source": [
    "min([len(c) for c in communities_list_gm])"
   ]
  },
  {
   "cell_type": "code",
   "execution_count": null,
   "metadata": {},
   "outputs": [],
   "source": [
    "#limitation: not 100% likely that people will be in a single disjoint community; in future we are going to extend this to overlapping communities."
   ]
  }
 ],
 "metadata": {
  "kernelspec": {
   "display_name": "Python 3",
   "language": "python",
   "name": "python3"
  },
  "language_info": {
   "codemirror_mode": {
    "name": "ipython",
    "version": 3
   },
   "file_extension": ".py",
   "mimetype": "text/x-python",
   "name": "python",
   "nbconvert_exporter": "python",
   "pygments_lexer": "ipython3",
   "version": "3.10.11"
  }
 },
 "nbformat": 4,
 "nbformat_minor": 2
}
