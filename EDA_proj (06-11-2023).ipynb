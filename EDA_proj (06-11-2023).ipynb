{
 "cells": [
  {
   "cell_type": "code",
   "execution_count": 1,
   "metadata": {},
   "outputs": [],
   "source": [
    "import networkx as nx\n",
    "import powerlaw as pl\n",
    "import matplotlib.pyplot as plt\n",
    "import numpy as np\n",
    "import pandas as pd\n",
    "from collections import Counter "
   ]
  },
  {
   "cell_type": "code",
   "execution_count": 2,
   "metadata": {},
   "outputs": [],
   "source": [
    "G = nx.read_edgelist('deezer.txt', create_using=nx.DiGraph, delimiter=',')"
   ]
  },
  {
   "cell_type": "code",
   "execution_count": 3,
   "metadata": {},
   "outputs": [
    {
     "name": "stdout",
     "output_type": "stream",
     "text": [
      "DiGraph with 27567 nodes and 92750 edges\n"
     ]
    }
   ],
   "source": [
    "print(G)\n",
    "# G.in_degree()"
   ]
  },
  {
   "cell_type": "code",
   "execution_count": 4,
   "metadata": {},
   "outputs": [],
   "source": [
    "def generate_ccdf_in(G):\n",
    "   dd = Counter(dict(G.in_degree).values())\n",
    "   dd = pd.DataFrame(list(dd.items()), columns = (\"k\", \"count\")).sort_values(by = \"k\")\n",
    "   ccdf = dd.sort_values(by = \"k\", ascending = False)\n",
    "   ccdf[\"cumsum\"] = ccdf[\"count\"].cumsum()\n",
    "   ccdf[\"ccdf\"] = ccdf[\"cumsum\"] / ccdf[\"count\"].sum()\n",
    "   ccdf = ccdf[[\"k\", \"ccdf\"]].sort_values(by = \"k\")\n",
    "\n",
    "   results = pl.Fit(ccdf[\"ccdf\"])\n",
    "   k_min = ccdf[ccdf[\"ccdf\"] == results.power_law.xmin][\"k\"]\n",
    "   print(\"Powerlaw CCDF Fit: %1.4f x ^ -%1.4f (k_min = %d)\" % (10 ** results.power_law.Kappa, results.power_law.alpha, k_min))\n",
    "\n",
    "   # Let's plot the best fit.\n",
    "   ccdf[\"fit\"] = (10 ** results.power_law.Kappa) * (ccdf[\"k\"] ** -results.power_law.alpha)\n",
    "   ax = plt.gca()\n",
    "   ccdf.plot(kind = \"line\", x = \"k\", y = \"ccdf\", color = \"#e41a1c\", loglog = True, ax = ax)\n",
    "   ccdf.plot(kind = \"line\", x = \"k\", y = \"fit\", color = \"#377eb8\", loglog = True, ax = ax)\n",
    "   plt.ylim(bottom=0.0001)\n",
    "   ax.set_title('IN-degree ccdf') \n",
    "   return None"
   ]
  },
  {
   "cell_type": "code",
   "execution_count": 5,
   "metadata": {},
   "outputs": [],
   "source": [
    "def logscatter_in(G):\n",
    "    d = dict(G.in_degree)\n",
    "    # turn into a count of degree (the values of the dict)\n",
    "    counter = Counter(d.values())\n",
    "    # Make it into a dataframe\n",
    "    counter = pd.DataFrame(list(counter.items()), columns = (\"k\", \"count\")).sort_values(by = \"k\")\n",
    "    plt.scatter(np.log2(counter['k']), np.log2(counter['count']), c = 'blue', s=10, alpha=0.5)\n",
    "    plt.title(\"log-log IN degree distr.\")\n",
    "    plt.savefig(\"loglog_degree_distribution.png\")\n",
    "    plt.show()\n",
    "    return None"
   ]
  },
  {
   "cell_type": "code",
   "execution_count": 6,
   "metadata": {},
   "outputs": [
    {
     "name": "stderr",
     "output_type": "stream",
     "text": [
      "C:\\Users\\lilir\\anaconda3\\lib\\site-packages\\pandas\\core\\arraylike.py:396: RuntimeWarning: divide by zero encountered in log2\n",
      "  result = getattr(ufunc, method)(*inputs, **kwargs)\n"
     ]
    },
    {
     "data": {
      "image/png": "[encoded data removed]",
      "text/plain": [
       "<Figure size 432x288 with 1 Axes>"
      ]
     },
     "metadata": {
      "needs_background": "light"
     },
     "output_type": "display_data"
    }
   ],
   "source": [
    "logscatter_in(G)"
   ]
  },
  {
   "cell_type": "code",
   "execution_count": 7,
   "metadata": {},
   "outputs": [
    {
     "name": "stdout",
     "output_type": "stream",
     "text": [
      "Calculating best minimal value for power law fit\n",
      "xmin progress: 00%\r",
      "xmin progress: 01%\r",
      "xmin progress: 03%\r",
      "xmin progress: 04%\r",
      "xmin progress: 06%\r",
      "xmin progress: 07%\r",
      "xmin progress: 09%\r",
      "xmin progress: 10%\r",
      "xmin progress: 12%\r",
      "xmin progress: 13%\r",
      "xmin progress: 15%\r",
      "xmin progress: 16%\r",
      "xmin progress: 18%\r",
      "xmin progress: 19%\r",
      "xmin progress: 21%\r",
      "xmin progress: 22%\r",
      "xmin progress: 24%\r",
      "xmin progress: 25%\r",
      "xmin progress: 27%\r",
      "xmin progress: 28%\r",
      "xmin progress: 30%\r",
      "xmin progress: 31%\r",
      "xmin progress: 33%\r",
      "xmin progress: 34%\r",
      "xmin progress: 36%\r",
      "xmin progress: 37%\r",
      "xmin progress: 39%\r",
      "xmin progress: 40%\r",
      "xmin progress: 42%\r",
      "xmin progress: 43%\r",
      "xmin progress: 45%\r",
      "xmin progress: 46%\r",
      "xmin progress: 48%\r",
      "xmin progress: 50%\r",
      "xmin progress: 51%\r",
      "xmin progress: 53%\r",
      "xmin progress: 54%\r",
      "xmin progress: 56%\r",
      "xmin progress: 57%\r",
      "xmin progress: 59%\r",
      "xmin progress: 60%\r",
      "xmin progress: 62%\r",
      "xmin progress: 63%\r",
      "xmin progress: 65%\r",
      "xmin progress: 66%\r",
      "xmin progress: 68%\r",
      "xmin progress: 69%\r",
      "xmin progress: 71%\r",
      "xmin progress: 72%\r",
      "xmin progress: 74%\r",
      "xmin progress: 75%\r",
      "xmin progress: 77%\r",
      "xmin progress: 78%\r",
      "xmin progress: 80%\r",
      "xmin progress: 81%\r",
      "xmin progress: 83%\r",
      "xmin progress: 84%\r",
      "xmin progress: 86%\r",
      "xmin progress: 87%\r",
      "xmin progress: 89%\r",
      "xmin progress: 90%\r",
      "xmin progress: 92%\r",
      "xmin progress: 93%\r",
      "xmin progress: 95%\r",
      "xmin progress: 96%\r",
      "xmin progress: 98%\r",
      "Powerlaw CCDF Fit: 11.0355 x ^ -1.3902 (k_min = 51)\n"
     ]
    },
    {
     "name": "stderr",
     "output_type": "stream",
     "text": [
      "C:\\Users\\lilir\\AppData\\Local\\Temp\\ipykernel_5764\\1974784645.py:11: FutureWarning: Calling int on a single element Series is deprecated and will raise a TypeError in the future. Use int(ser.iloc[0]) instead\n",
      "  print(\"Powerlaw CCDF Fit: %1.4f x ^ -%1.4f (k_min = %d)\" % (10 ** results.power_law.Kappa, results.power_law.alpha, k_min))\n"
     ]
    },
    {
     "data": {
      "image/png": "[encoded data removed]",
      "text/plain": [
       "<Figure size 432x288 with 1 Axes>"
      ]
     },
     "metadata": {
      "needs_background": "light"
     },
     "output_type": "display_data"
    }
   ],
   "source": [
    "generate_ccdf_in(G)"
   ]
  },
  {
   "cell_type": "code",
   "execution_count": 8,
   "metadata": {},
   "outputs": [],
   "source": [
    "def generate_ccdf_out(G):\n",
    "   dd = Counter(dict(G.out_degree).values())\n",
    "   dd = pd.DataFrame(list(dd.items()), columns = (\"k\", \"count\")).sort_values(by = \"k\")\n",
    "   ccdf = dd.sort_values(by = \"k\", ascending = False)\n",
    "   ccdf[\"cumsum\"] = ccdf[\"count\"].cumsum()\n",
    "   ccdf[\"ccdf\"] = ccdf[\"cumsum\"] / ccdf[\"count\"].sum()\n",
    "   ccdf = ccdf[[\"k\", \"ccdf\"]].sort_values(by = \"k\")\n",
    "   \n",
    "   results = pl.Fit(ccdf[\"ccdf\"])\n",
    "   k_min = ccdf[ccdf[\"ccdf\"] == results.power_law.xmin][\"k\"]\n",
    "   print(\"Powerlaw CCDF Fit: %1.4f x ^ -%1.4f (k_min = %d)\" % (10 ** results.power_law.Kappa, results.power_law.alpha, k_min))\n",
    "\n",
    "   # Let's plot the best fit.\n",
    "   ccdf[\"fit\"] = (10 ** results.power_law.Kappa) * (ccdf[\"k\"] ** -results.power_law.alpha)\n",
    "   ax = plt.gca()\n",
    "   ccdf.plot(kind = \"line\", x = \"k\", y = \"ccdf\", color = \"#e41a1c\", loglog = True, ax = ax)\n",
    "   ccdf.plot(kind = \"line\", x = \"k\", y = \"fit\", color = \"#377eb8\", loglog = True, ax = ax)\n",
    "   ax.set_title('OUT-degree ccdf') \n",
    "   plt.ylim(bottom=0.0001)\n",
    "   return None\n",
    "\n",
    "def logscatter_out(G):\n",
    "    d = dict(G.out_degree())\n",
    "    # turn into a count of degree (the values of the dict)\n",
    "    counter = Counter(d.values())\n",
    "    # Make it into a dataframe\n",
    "    counter = pd.DataFrame(list(counter.items()), columns = (\"k\", \"count\")).sort_values(by = \"k\")\n",
    "    plt.scatter(np.log2(counter['k']), np.log2(counter['count']), c = 'blue', s=10, alpha=0.5)\n",
    "    plt.title(\"log-log OUT-degree distr.\")\n",
    "    plt.savefig(\"loglog_degree_distribution.png\")\n",
    "    plt.show()\n",
    "    return None"
   ]
  },
  {
   "cell_type": "code",
   "execution_count": 9,
   "metadata": {},
   "outputs": [
    {
     "name": "stdout",
     "output_type": "stream",
     "text": [
      "Calculating best minimal value for power law fit\n",
      "xmin progress: 00%\r",
      "xmin progress: 01%\r",
      "xmin progress: 02%\r",
      "xmin progress: 04%\r",
      "xmin progress: 05%\r",
      "xmin progress: 07%\r",
      "xmin progress: 08%\r",
      "xmin progress: 10%\r",
      "xmin progress: 11%\r",
      "xmin progress: 13%\r",
      "xmin progress: 14%\r",
      "xmin progress: 16%\r",
      "xmin progress: 17%\r",
      "xmin progress: 19%\r",
      "xmin progress: 20%\r",
      "xmin progress: 22%\r",
      "xmin progress: 23%\r",
      "xmin progress: 25%\r",
      "xmin progress: 26%\r",
      "xmin progress: 27%\r",
      "xmin progress: 29%\r",
      "xmin progress: 30%\r",
      "xmin progress: 32%\r",
      "xmin progress: 33%\r",
      "xmin progress: 35%\r",
      "xmin progress: 36%\r",
      "xmin progress: 38%\r",
      "xmin progress: 39%\r",
      "xmin progress: 41%\r",
      "xmin progress: 42%\r",
      "xmin progress: 44%\r",
      "xmin progress: 45%\r",
      "xmin progress: 47%\r",
      "xmin progress: 48%\r",
      "xmin progress: 50%\r",
      "xmin progress: 51%\r",
      "xmin progress: 52%\r",
      "xmin progress: 54%\r",
      "xmin progress: 55%\r",
      "xmin progress: 57%\r",
      "xmin progress: 58%\r",
      "xmin progress: 60%\r",
      "xmin progress: 61%\r",
      "xmin progress: 63%\r",
      "xmin progress: 64%\r",
      "xmin progress: 66%\r",
      "xmin progress: 67%\r",
      "xmin progress: 69%\r",
      "xmin progress: 70%\r",
      "xmin progress: 72%\r",
      "xmin progress: 73%\r",
      "xmin progress: 75%\r",
      "xmin progress: 76%\r",
      "xmin progress: 77%\r",
      "xmin progress: 79%\r",
      "xmin progress: 80%\r",
      "xmin progress: 82%\r",
      "xmin progress: 83%\r",
      "xmin progress: 85%\r",
      "xmin progress: 86%\r",
      "xmin progress: 88%\r",
      "xmin progress: 89%\r",
      "xmin progress: 91%\r",
      "xmin progress: 92%\r",
      "xmin progress: 94%\r",
      "xmin progress: 95%\r",
      "xmin progress: 97%\r",
      "xmin progress: 98%\r",
      "Powerlaw CCDF Fit: 11.1748 x ^ -1.3559 (k_min = 59)\n"
     ]
    },
    {
     "name": "stderr",
     "output_type": "stream",
     "text": [
      "C:\\Users\\lilir\\AppData\\Local\\Temp\\ipykernel_5764\\3540730541.py:11: FutureWarning: Calling int on a single element Series is deprecated and will raise a TypeError in the future. Use int(ser.iloc[0]) instead\n",
      "  print(\"Powerlaw CCDF Fit: %1.4f x ^ -%1.4f (k_min = %d)\" % (10 ** results.power_law.Kappa, results.power_law.alpha, k_min))\n"
     ]
    },
    {
     "data": {
      "image/png": "[encoded data removed]",
      "text/plain": [
       "<Figure size 432x288 with 1 Axes>"
      ]
     },
     "metadata": {
      "needs_background": "light"
     },
     "output_type": "display_data"
    }
   ],
   "source": [
    "generate_ccdf_out(G)"
   ]
  },
  {
   "cell_type": "code",
   "execution_count": 10,
   "metadata": {},
   "outputs": [
    {
     "name": "stderr",
     "output_type": "stream",
     "text": [
      "C:\\Users\\lilir\\anaconda3\\lib\\site-packages\\pandas\\core\\arraylike.py:396: RuntimeWarning: divide by zero encountered in log2\n",
      "  result = getattr(ufunc, method)(*inputs, **kwargs)\n"
     ]
    },
    {
     "data": {
      "image/png": "[encoded data removed]",
      "text/plain": [
       "<Figure size 432x288 with 1 Axes>"
      ]
     },
     "metadata": {
      "needs_background": "light"
     },
     "output_type": "display_data"
    }
   ],
   "source": [
    "logscatter_out(G)"
   ]
  },
  {
   "cell_type": "code",
   "execution_count": 11,
   "metadata": {},
   "outputs": [
    {
     "name": "stdout",
     "output_type": "stream",
     "text": [
      "CC for real network: 0.04116244994833376\n"
     ]
    }
   ],
   "source": [
    "#Clustering coefficient\n",
    "cc = nx.transitivity(G)\n",
    "print(f\"CC for real network: {cc}\")"
   ]
  },
  {
   "cell_type": "code",
   "execution_count": 12,
   "metadata": {},
   "outputs": [
    {
     "name": "stdout",
     "output_type": "stream",
     "text": [
      "The parameter p for the graph:  0.00024410723747008144\n"
     ]
    }
   ],
   "source": [
    "def p(Graph):\n",
    "    return len(Graph.edges) / ((len(Graph.nodes) * (len(Graph.nodes)-1)) / 2)\n",
    "\n",
    "print(\"The parameter p for the graph: \", p(G))"
   ]
  },
  {
   "cell_type": "code",
   "execution_count": 13,
   "metadata": {},
   "outputs": [],
   "source": [
    "#taking the largest strongly connected component\n",
    "largest_scc = max(nx.strongly_connected_components(G), key=len)"
   ]
  },
  {
   "cell_type": "code",
   "execution_count": 14,
   "metadata": {
    "scrolled": true
   },
   "outputs": [
    {
     "data": {
      "text/plain": [
       "8933"
      ]
     },
     "execution_count": 14,
     "metadata": {},
     "output_type": "execute_result"
    }
   ],
   "source": [
    "len(largest_scc)"
   ]
  },
  {
   "cell_type": "code",
   "execution_count": 15,
   "metadata": {},
   "outputs": [],
   "source": [
    "#edges of lscc\n",
    "# strongs = sorted(nx.strongly_connected_components(G), key=len, reverse=True)\n",
    "# for strong in strongs:\n",
    "#     G.subgraph(strong).edges()"
   ]
  },
  {
   "cell_type": "code",
   "execution_count": 16,
   "metadata": {},
   "outputs": [],
   "source": [
    "#taking the largest weakly connected component\n",
    "largest_wcc = max(nx.weakly_connected_components(G), key=len)"
   ]
  },
  {
   "cell_type": "code",
   "execution_count": 17,
   "metadata": {},
   "outputs": [
    {
     "data": {
      "text/plain": [
       "27521"
      ]
     },
     "execution_count": 17,
     "metadata": {},
     "output_type": "execute_result"
    }
   ],
   "source": [
    "len(largest_wcc)"
   ]
  },
  {
   "cell_type": "code",
   "execution_count": 18,
   "metadata": {},
   "outputs": [],
   "source": [
    "if largest_scc in largest_wcc:\n",
    "    print(True)"
   ]
  },
  {
   "cell_type": "code",
   "execution_count": 19,
   "metadata": {},
   "outputs": [
    {
     "data": {
      "text/plain": [
       "True"
      ]
     },
     "execution_count": 19,
     "metadata": {},
     "output_type": "execute_result"
    }
   ],
   "source": [
    "largest_scc.issubset(largest_wcc)"
   ]
  },
  {
   "cell_type": "markdown",
   "metadata": {},
   "source": [
    "- assortativity (**quantitative homophily**) - `-0.08324455771686787` ~ -0.08 - negative assortativity/disassortativity - nodes with high degrees tend to be connected to nodes with low degrees\n",
    "- degree correlation - the extent to which nodes in a network tend to connect to nodes with a similar degree; got the same value as assortativity - `-0.08324455771686744`"
   ]
  },
  {
   "cell_type": "code",
   "execution_count": 20,
   "metadata": {},
   "outputs": [
    {
     "data": {
      "text/plain": [
       "0.02426893562583528"
      ]
     },
     "execution_count": 20,
     "metadata": {},
     "output_type": "execute_result"
    }
   ],
   "source": [
    "ass = nx.degree_assortativity_coefficient(G)\n",
    "ass \n",
    "#assortativity but as the val is negative -> disassortativity"
   ]
  },
  {
   "cell_type": "code",
   "execution_count": 21,
   "metadata": {},
   "outputs": [
    {
     "data": {
      "text/plain": [
       "0.024268935625834334"
      ]
     },
     "execution_count": 21,
     "metadata": {},
     "output_type": "execute_result"
    }
   ],
   "source": [
    "degkor = nx.degree_pearson_correlation_coefficient(G)\n",
    "degkor #degree correlation"
   ]
  },
  {
   "cell_type": "markdown",
   "metadata": {},
   "source": [
    "closeness centrality - how close a node is to all other nodes in the network; calculated as the average of the shortest path length from the node to every other node in the network "
   ]
  },
  {
   "cell_type": "code",
   "execution_count": 22,
   "metadata": {},
   "outputs": [],
   "source": [
    "# clc = nx.closeness_centrality(G) \n",
    "# #dictionary of closeness centrality values"
   ]
  },
  {
   "cell_type": "markdown",
   "metadata": {},
   "source": [
    "betweenness centrality - number of shortest paths in a graph that pass through a node divided by the number of shortest paths that exist between every pair of nodes in a graph"
   ]
  },
  {
   "cell_type": "code",
   "execution_count": 71,
   "metadata": {},
   "outputs": [],
   "source": [
    "# bnc = nx.betweenness_centrality(G)\n",
    "# #dictionary of betweenness centrality values"
   ]
  },
  {
   "cell_type": "code",
   "execution_count": 72,
   "metadata": {},
   "outputs": [],
   "source": [
    "# clc\n",
    "# print(bnc)"
   ]
  },
  {
   "cell_type": "code",
   "execution_count": 23,
   "metadata": {},
   "outputs": [
    {
     "data": {
      "text/html": [
       "<div>\n",
       "<style scoped>\n",
       "    .dataframe tbody tr th:only-of-type {\n",
       "        vertical-align: middle;\n",
       "    }\n",
       "\n",
       "    .dataframe tbody tr th {\n",
       "        vertical-align: top;\n",
       "    }\n",
       "\n",
       "    .dataframe thead th {\n",
       "        text-align: right;\n",
       "    }\n",
       "</style>\n",
       "<table border=\"1\" class=\"dataframe\">\n",
       "  <thead>\n",
       "    <tr style=\"text-align: right;\">\n",
       "      <th></th>\n",
       "      <th>Id</th>\n",
       "      <th>Label</th>\n",
       "      <th>indegree</th>\n",
       "      <th>outdegree</th>\n",
       "      <th>Degree</th>\n",
       "      <th>weighted indegree</th>\n",
       "      <th>weighted outdegree</th>\n",
       "      <th>Weighted Degree</th>\n",
       "      <th>Eccentricity</th>\n",
       "      <th>closnesscentrality</th>\n",
       "      <th>harmonicclosnesscentrality</th>\n",
       "      <th>betweenesscentrality</th>\n",
       "      <th>componentnumber</th>\n",
       "      <th>strongcompnum</th>\n",
       "      <th>clustering</th>\n",
       "      <th>modularity_class</th>\n",
       "    </tr>\n",
       "  </thead>\n",
       "  <tbody>\n",
       "    <tr>\n",
       "      <th>0</th>\n",
       "      <td>0</td>\n",
       "      <td>NaN</td>\n",
       "      <td>0</td>\n",
       "      <td>7</td>\n",
       "      <td>7</td>\n",
       "      <td>0</td>\n",
       "      <td>7</td>\n",
       "      <td>7</td>\n",
       "      <td>17</td>\n",
       "      <td>0.119722</td>\n",
       "      <td>0.126623</td>\n",
       "      <td>0.000000</td>\n",
       "      <td>0</td>\n",
       "      <td>9048</td>\n",
       "      <td>0.047619</td>\n",
       "      <td>0</td>\n",
       "    </tr>\n",
       "    <tr>\n",
       "      <th>1</th>\n",
       "      <td>1427</td>\n",
       "      <td>NaN</td>\n",
       "      <td>3</td>\n",
       "      <td>1</td>\n",
       "      <td>4</td>\n",
       "      <td>3</td>\n",
       "      <td>1</td>\n",
       "      <td>4</td>\n",
       "      <td>19</td>\n",
       "      <td>0.088968</td>\n",
       "      <td>0.092377</td>\n",
       "      <td>0.000509</td>\n",
       "      <td>0</td>\n",
       "      <td>555</td>\n",
       "      <td>0.000000</td>\n",
       "      <td>10</td>\n",
       "    </tr>\n",
       "    <tr>\n",
       "      <th>2</th>\n",
       "      <td>16976</td>\n",
       "      <td>NaN</td>\n",
       "      <td>6</td>\n",
       "      <td>5</td>\n",
       "      <td>11</td>\n",
       "      <td>6</td>\n",
       "      <td>5</td>\n",
       "      <td>11</td>\n",
       "      <td>16</td>\n",
       "      <td>0.118462</td>\n",
       "      <td>0.126453</td>\n",
       "      <td>0.000971</td>\n",
       "      <td>0</td>\n",
       "      <td>555</td>\n",
       "      <td>0.054545</td>\n",
       "      <td>10</td>\n",
       "    </tr>\n",
       "    <tr>\n",
       "      <th>3</th>\n",
       "      <td>12029</td>\n",
       "      <td>NaN</td>\n",
       "      <td>2</td>\n",
       "      <td>3</td>\n",
       "      <td>5</td>\n",
       "      <td>2</td>\n",
       "      <td>3</td>\n",
       "      <td>5</td>\n",
       "      <td>17</td>\n",
       "      <td>0.120498</td>\n",
       "      <td>0.129098</td>\n",
       "      <td>0.000039</td>\n",
       "      <td>0</td>\n",
       "      <td>555</td>\n",
       "      <td>0.200000</td>\n",
       "      <td>10</td>\n",
       "    </tr>\n",
       "    <tr>\n",
       "      <th>4</th>\n",
       "      <td>3001</td>\n",
       "      <td>NaN</td>\n",
       "      <td>2</td>\n",
       "      <td>2</td>\n",
       "      <td>4</td>\n",
       "      <td>2</td>\n",
       "      <td>2</td>\n",
       "      <td>4</td>\n",
       "      <td>19</td>\n",
       "      <td>0.099471</td>\n",
       "      <td>0.103055</td>\n",
       "      <td>0.000069</td>\n",
       "      <td>0</td>\n",
       "      <td>9047</td>\n",
       "      <td>0.000000</td>\n",
       "      <td>6</td>\n",
       "    </tr>\n",
       "    <tr>\n",
       "      <th>...</th>\n",
       "      <td>...</td>\n",
       "      <td>...</td>\n",
       "      <td>...</td>\n",
       "      <td>...</td>\n",
       "      <td>...</td>\n",
       "      <td>...</td>\n",
       "      <td>...</td>\n",
       "      <td>...</td>\n",
       "      <td>...</td>\n",
       "      <td>...</td>\n",
       "      <td>...</td>\n",
       "      <td>...</td>\n",
       "      <td>...</td>\n",
       "      <td>...</td>\n",
       "      <td>...</td>\n",
       "      <td>...</td>\n",
       "    </tr>\n",
       "    <tr>\n",
       "      <th>27560</th>\n",
       "      <td>27711</td>\n",
       "      <td>NaN</td>\n",
       "      <td>1</td>\n",
       "      <td>0</td>\n",
       "      <td>1</td>\n",
       "      <td>1</td>\n",
       "      <td>0</td>\n",
       "      <td>1</td>\n",
       "      <td>0</td>\n",
       "      <td>0.000000</td>\n",
       "      <td>0.000000</td>\n",
       "      <td>0.000000</td>\n",
       "      <td>21</td>\n",
       "      <td>18627</td>\n",
       "      <td>0.000000</td>\n",
       "      <td>0</td>\n",
       "    </tr>\n",
       "    <tr>\n",
       "      <th>27561</th>\n",
       "      <td>27790</td>\n",
       "      <td>NaN</td>\n",
       "      <td>0</td>\n",
       "      <td>1</td>\n",
       "      <td>1</td>\n",
       "      <td>0</td>\n",
       "      <td>1</td>\n",
       "      <td>1</td>\n",
       "      <td>1</td>\n",
       "      <td>1.000000</td>\n",
       "      <td>1.000000</td>\n",
       "      <td>0.000000</td>\n",
       "      <td>0</td>\n",
       "      <td>18629</td>\n",
       "      <td>0.000000</td>\n",
       "      <td>0</td>\n",
       "    </tr>\n",
       "    <tr>\n",
       "      <th>27562</th>\n",
       "      <td>27859</td>\n",
       "      <td>NaN</td>\n",
       "      <td>0</td>\n",
       "      <td>1</td>\n",
       "      <td>1</td>\n",
       "      <td>0</td>\n",
       "      <td>1</td>\n",
       "      <td>1</td>\n",
       "      <td>1</td>\n",
       "      <td>1.000000</td>\n",
       "      <td>1.000000</td>\n",
       "      <td>0.000000</td>\n",
       "      <td>0</td>\n",
       "      <td>18630</td>\n",
       "      <td>0.000000</td>\n",
       "      <td>0</td>\n",
       "    </tr>\n",
       "    <tr>\n",
       "      <th>27563</th>\n",
       "      <td>27950</td>\n",
       "      <td>NaN</td>\n",
       "      <td>0</td>\n",
       "      <td>1</td>\n",
       "      <td>1</td>\n",
       "      <td>0</td>\n",
       "      <td>1</td>\n",
       "      <td>1</td>\n",
       "      <td>18</td>\n",
       "      <td>0.098974</td>\n",
       "      <td>0.103025</td>\n",
       "      <td>0.000000</td>\n",
       "      <td>0</td>\n",
       "      <td>18631</td>\n",
       "      <td>0.000000</td>\n",
       "      <td>0</td>\n",
       "    </tr>\n",
       "    <tr>\n",
       "      <th>27564</th>\n",
       "      <td>28100</td>\n",
       "      <td>NaN</td>\n",
       "      <td>0</td>\n",
       "      <td>1</td>\n",
       "      <td>1</td>\n",
       "      <td>0</td>\n",
       "      <td>1</td>\n",
       "      <td>1</td>\n",
       "      <td>1</td>\n",
       "      <td>1.000000</td>\n",
       "      <td>1.000000</td>\n",
       "      <td>0.000000</td>\n",
       "      <td>0</td>\n",
       "      <td>18632</td>\n",
       "      <td>0.000000</td>\n",
       "      <td>0</td>\n",
       "    </tr>\n",
       "  </tbody>\n",
       "</table>\n",
       "<p>27565 rows × 16 columns</p>\n",
       "</div>"
      ],
      "text/plain": [
       "          Id  Label  indegree  outdegree  Degree  weighted indegree   \n",
       "0          0    NaN         0          7       7                  0  \\\n",
       "1       1427    NaN         3          1       4                  3   \n",
       "2      16976    NaN         6          5      11                  6   \n",
       "3      12029    NaN         2          3       5                  2   \n",
       "4       3001    NaN         2          2       4                  2   \n",
       "...      ...    ...       ...        ...     ...                ...   \n",
       "27560  27711    NaN         1          0       1                  1   \n",
       "27561  27790    NaN         0          1       1                  0   \n",
       "27562  27859    NaN         0          1       1                  0   \n",
       "27563  27950    NaN         0          1       1                  0   \n",
       "27564  28100    NaN         0          1       1                  0   \n",
       "\n",
       "       weighted outdegree  Weighted Degree  Eccentricity  closnesscentrality   \n",
       "0                       7                7            17            0.119722  \\\n",
       "1                       1                4            19            0.088968   \n",
       "2                       5               11            16            0.118462   \n",
       "3                       3                5            17            0.120498   \n",
       "4                       2                4            19            0.099471   \n",
       "...                   ...              ...           ...                 ...   \n",
       "27560                   0                1             0            0.000000   \n",
       "27561                   1                1             1            1.000000   \n",
       "27562                   1                1             1            1.000000   \n",
       "27563                   1                1            18            0.098974   \n",
       "27564                   1                1             1            1.000000   \n",
       "\n",
       "       harmonicclosnesscentrality  betweenesscentrality  componentnumber   \n",
       "0                        0.126623              0.000000                0  \\\n",
       "1                        0.092377              0.000509                0   \n",
       "2                        0.126453              0.000971                0   \n",
       "3                        0.129098              0.000039                0   \n",
       "4                        0.103055              0.000069                0   \n",
       "...                           ...                   ...              ...   \n",
       "27560                    0.000000              0.000000               21   \n",
       "27561                    1.000000              0.000000                0   \n",
       "27562                    1.000000              0.000000                0   \n",
       "27563                    0.103025              0.000000                0   \n",
       "27564                    1.000000              0.000000                0   \n",
       "\n",
       "       strongcompnum  clustering  modularity_class  \n",
       "0               9048    0.047619                 0  \n",
       "1                555    0.000000                10  \n",
       "2                555    0.054545                10  \n",
       "3                555    0.200000                10  \n",
       "4               9047    0.000000                 6  \n",
       "...              ...         ...               ...  \n",
       "27560          18627    0.000000                 0  \n",
       "27561          18629    0.000000                 0  \n",
       "27562          18630    0.000000                 0  \n",
       "27563          18631    0.000000                 0  \n",
       "27564          18632    0.000000                 0  \n",
       "\n",
       "[27565 rows x 16 columns]"
      ]
     },
     "execution_count": 23,
     "metadata": {},
     "output_type": "execute_result"
    }
   ],
   "source": [
    "df = pd.read_csv('deezer_summary_lwcc.csv')\n",
    "df"
   ]
  },
  {
   "cell_type": "code",
   "execution_count": 83,
   "metadata": {},
   "outputs": [],
   "source": [
    "strongly_connected_components = max(nx.strongly_connected_components(G), key=len)\n",
    "largest_strongly_connected_component = G.subgraph(strongly_connected_components).copy()\n",
    "\n",
    "# Extract edges from the largest strongly connected component\n",
    "edges_largest_component = list(largest_strongly_connected_component.edges())\n",
    "\n",
    "largest_component_graph = nx.DiGraph(edges_largest_component)\n",
    "\n",
    "# Plot the graph\n",
    "# pos = nx.spring_layout(largest_component_graph)\n",
    "# nx.draw(largest_component_graph, pos, with_labels=True, node_color='skyblue', node_size=500, font_weight='bold', arrows=True)\n",
    "# plt.title(\"Graph of the Largest Strongly Connected Component\")\n",
    "# plt.show()\n"
   ]
  },
  {
   "cell_type": "code",
   "execution_count": 119,
   "metadata": {},
   "outputs": [
    {
     "name": "stdout",
     "output_type": "stream",
     "text": [
      "DiGraph with 8933 nodes and 35700 edges\n"
     ]
    },
    {
     "data": {
      "image/png": "[encoded data removed]",
      "text/plain": [
       "<Figure size 432x288 with 1 Axes>"
      ]
     },
     "metadata": {
      "needs_background": "light"
     },
     "output_type": "display_data"
    },
    {
     "data": {
      "image/png": "[encoded data removed]",
      "text/plain": [
       "<Figure size 432x288 with 1 Axes>"
      ]
     },
     "metadata": {
      "needs_background": "light"
     },
     "output_type": "display_data"
    },
    {
     "name": "stdout",
     "output_type": "stream",
     "text": [
      "Calculating best minimal value for power law fit\n",
      "xmin progress: 00%\r",
      "xmin progress: 02%\r",
      "xmin progress: 04%\r",
      "xmin progress: 06%\r",
      "xmin progress: 08%\r",
      "xmin progress: 10%\r",
      "xmin progress: 12%\r",
      "xmin progress: 14%\r",
      "xmin progress: 16%\r",
      "xmin progress: 18%\r",
      "xmin progress: 20%\r",
      "xmin progress: 22%\r",
      "xmin progress: 24%\r",
      "xmin progress: 26%\r",
      "xmin progress: 28%\r",
      "xmin progress: 30%\r",
      "xmin progress: 32%\r",
      "xmin progress: 34%\r",
      "xmin progress: 36%\r",
      "xmin progress: 38%\r",
      "xmin progress: 40%\r",
      "xmin progress: 42%\r",
      "xmin progress: 44%\r",
      "xmin progress: 46%\r",
      "xmin progress: 48%\r",
      "xmin progress: 51%\r",
      "xmin progress: 53%\r",
      "xmin progress: 55%\r",
      "xmin progress: 57%\r",
      "xmin progress: 59%\r",
      "xmin progress: 61%\r",
      "xmin progress: 63%\r",
      "xmin progress: 65%\r",
      "xmin progress: 67%\r",
      "xmin progress: 69%\r",
      "xmin progress: 71%\r",
      "xmin progress: 73%\r",
      "xmin progress: 75%\r",
      "xmin progress: 77%\r",
      "xmin progress: 79%\r",
      "xmin progress: 81%\r",
      "xmin progress: 83%\r",
      "xmin progress: 85%\r",
      "xmin progress: 87%\r",
      "xmin progress: 89%\r",
      "xmin progress: 91%\r",
      "xmin progress: 93%\r",
      "xmin progress: 95%\r",
      "xmin progress: 97%\r",
      "Powerlaw CCDF Fit: 11.2001 x ^ -1.4341 (k_min = 37)\n"
     ]
    },
    {
     "name": "stderr",
     "output_type": "stream",
     "text": [
      "C:\\Users\\lilir\\AppData\\Local\\Temp\\ipykernel_6976\\3540730541.py:11: FutureWarning: Calling int on a single element Series is deprecated and will raise a TypeError in the future. Use int(ser.iloc[0]) instead\n",
      "  print(\"Powerlaw CCDF Fit: %1.4f x ^ -%1.4f (k_min = %d)\" % (10 ** results.power_law.Kappa, results.power_law.alpha, k_min))\n"
     ]
    },
    {
     "data": {
      "image/png": "[encoded data removed]",
      "text/plain": [
       "<Figure size 432x288 with 1 Axes>"
      ]
     },
     "metadata": {
      "needs_background": "light"
     },
     "output_type": "display_data"
    }
   ],
   "source": [
    "print(largest_component_graph)\n",
    "logscatter_in(largest_component_graph)\n",
    "logscatter_out(largest_component_graph)\n",
    "generate_ccdf_out(largest_component_graph)"
   ]
  },
  {
   "cell_type": "code",
   "execution_count": 120,
   "metadata": {},
   "outputs": [
    {
     "name": "stdout",
     "output_type": "stream",
     "text": [
      "Calculating best minimal value for power law fit\n",
      "xmin progress: 00%\r",
      "xmin progress: 01%\r",
      "xmin progress: 03%\r",
      "xmin progress: 05%\r",
      "xmin progress: 07%\r",
      "xmin progress: 09%\r",
      "xmin progress: 11%\r",
      "xmin progress: 13%\r",
      "xmin progress: 15%\r",
      "xmin progress: 17%\r",
      "xmin progress: 19%\r",
      "xmin progress: 21%\r",
      "xmin progress: 23%\r",
      "xmin progress: 25%\r",
      "xmin progress: 26%\r",
      "xmin progress: 28%\r",
      "xmin progress: 30%\r",
      "xmin progress: 32%\r",
      "xmin progress: 34%\r",
      "xmin progress: 36%\r",
      "xmin progress: 38%\r",
      "xmin progress: 40%\r",
      "xmin progress: 42%\r",
      "xmin progress: 44%\r",
      "xmin progress: 46%\r",
      "xmin progress: 48%\r",
      "xmin progress: 50%\r",
      "xmin progress: 51%\r",
      "xmin progress: 53%\r",
      "xmin progress: 55%\r",
      "xmin progress: 57%\r",
      "xmin progress: 59%\r",
      "xmin progress: 61%\r",
      "xmin progress: 63%\r",
      "xmin progress: 65%\r",
      "xmin progress: 67%\r",
      "xmin progress: 69%\r",
      "xmin progress: 71%\r",
      "xmin progress: 73%\r",
      "xmin progress: 75%\r",
      "xmin progress: 76%\r",
      "xmin progress: 78%\r",
      "xmin progress: 80%\r",
      "xmin progress: 82%\r",
      "xmin progress: 84%\r",
      "xmin progress: 86%\r",
      "xmin progress: 88%\r",
      "xmin progress: 90%\r",
      "xmin progress: 92%\r",
      "xmin progress: 94%\r",
      "xmin progress: 96%\r",
      "xmin progress: 98%\r",
      "Powerlaw CCDF Fit: 11.0241 x ^ -1.4701 (k_min = 34)\n"
     ]
    },
    {
     "name": "stderr",
     "output_type": "stream",
     "text": [
      "C:\\Users\\lilir\\AppData\\Local\\Temp\\ipykernel_6976\\1974784645.py:11: FutureWarning: Calling int on a single element Series is deprecated and will raise a TypeError in the future. Use int(ser.iloc[0]) instead\n",
      "  print(\"Powerlaw CCDF Fit: %1.4f x ^ -%1.4f (k_min = %d)\" % (10 ** results.power_law.Kappa, results.power_law.alpha, k_min))\n"
     ]
    },
    {
     "data": {
      "image/png": "[encoded data removed]",
      "text/plain": [
       "<Figure size 432x288 with 1 Axes>"
      ]
     },
     "metadata": {
      "needs_background": "light"
     },
     "output_type": "display_data"
    }
   ],
   "source": [
    "generate_ccdf_in(largest_component_graph)"
   ]
  },
  {
   "cell_type": "code",
   "execution_count": 121,
   "metadata": {},
   "outputs": [
    {
     "name": "stdout",
     "output_type": "stream",
     "text": [
      "DiGraph with 27567 nodes and 92750 edges\n"
     ]
    },
    {
     "name": "stderr",
     "output_type": "stream",
     "text": [
      "C:\\Users\\lilir\\anaconda3\\lib\\site-packages\\pandas\\core\\arraylike.py:396: RuntimeWarning: divide by zero encountered in log2\n",
      "  result = getattr(ufunc, method)(*inputs, **kwargs)\n"
     ]
    },
    {
     "data": {
      "image/png": "[encoded data removed]",
      "text/plain": [
       "<Figure size 432x288 with 1 Axes>"
      ]
     },
     "metadata": {
      "needs_background": "light"
     },
     "output_type": "display_data"
    },
    {
     "data": {
      "image/png": "[encoded data removed]",
      "text/plain": [
       "<Figure size 432x288 with 1 Axes>"
      ]
     },
     "metadata": {
      "needs_background": "light"
     },
     "output_type": "display_data"
    },
    {
     "name": "stdout",
     "output_type": "stream",
     "text": [
      "Calculating best minimal value for power law fit"
     ]
    },
    {
     "name": "stderr",
     "output_type": "stream",
     "text": [
      "C:\\Users\\lilir\\AppData\\Local\\Temp\\ipykernel_6976\\3540730541.py:11: FutureWarning: Calling int on a single element Series is deprecated and will raise a TypeError in the future. Use int(ser.iloc[0]) instead\n",
      "  print(\"Powerlaw CCDF Fit: %1.4f x ^ -%1.4f (k_min = %d)\" % (10 ** results.power_law.Kappa, results.power_law.alpha, k_min))\n"
     ]
    },
    {
     "name": "stdout",
     "output_type": "stream",
     "text": [
      "\n",
      "xmin progress: 00%\r",
      "xmin progress: 01%\r",
      "xmin progress: 02%\r",
      "xmin progress: 04%\r",
      "xmin progress: 05%\r",
      "xmin progress: 07%\r",
      "xmin progress: 08%\r",
      "xmin progress: 10%\r",
      "xmin progress: 11%\r",
      "xmin progress: 13%\r",
      "xmin progress: 14%\r",
      "xmin progress: 16%\r",
      "xmin progress: 17%\r",
      "xmin progress: 19%\r",
      "xmin progress: 20%\r",
      "xmin progress: 22%\r",
      "xmin progress: 23%\r",
      "xmin progress: 25%\r",
      "xmin progress: 26%\r",
      "xmin progress: 27%\r",
      "xmin progress: 29%\r",
      "xmin progress: 30%\r",
      "xmin progress: 32%\r",
      "xmin progress: 33%\r",
      "xmin progress: 35%\r",
      "xmin progress: 36%\r",
      "xmin progress: 38%\r",
      "xmin progress: 39%\r",
      "xmin progress: 41%\r",
      "xmin progress: 42%\r",
      "xmin progress: 44%\r",
      "xmin progress: 45%\r",
      "xmin progress: 47%\r",
      "xmin progress: 48%\r",
      "xmin progress: 50%\r",
      "xmin progress: 51%\r",
      "xmin progress: 52%\r",
      "xmin progress: 54%\r",
      "xmin progress: 55%\r",
      "xmin progress: 57%\r",
      "xmin progress: 58%\r",
      "xmin progress: 60%\r",
      "xmin progress: 61%\r",
      "xmin progress: 63%\r",
      "xmin progress: 64%\r",
      "xmin progress: 66%\r",
      "xmin progress: 67%\r",
      "xmin progress: 69%\r",
      "xmin progress: 70%\r",
      "xmin progress: 72%\r",
      "xmin progress: 73%\r",
      "xmin progress: 75%\r",
      "xmin progress: 76%\r",
      "xmin progress: 77%\r",
      "xmin progress: 79%\r",
      "xmin progress: 80%\r",
      "xmin progress: 82%\r",
      "xmin progress: 83%\r",
      "xmin progress: 85%\r",
      "xmin progress: 86%\r",
      "xmin progress: 88%\r",
      "xmin progress: 89%\r",
      "xmin progress: 91%\r",
      "xmin progress: 92%\r",
      "xmin progress: 94%\r",
      "xmin progress: 95%\r",
      "xmin progress: 97%\r",
      "xmin progress: 98%\r",
      "Powerlaw CCDF Fit: 11.1748 x ^ -1.3559 (k_min = 59)\n"
     ]
    },
    {
     "data": {
      "image/png": "[encoded data removed]",
      "text/plain": [
       "<Figure size 432x288 with 1 Axes>"
      ]
     },
     "metadata": {
      "needs_background": "light"
     },
     "output_type": "display_data"
    }
   ],
   "source": [
    "print(G)\n",
    "logscatter_in(G)\n",
    "logscatter_out(G)\n",
    "generate_ccdf_out(G)"
   ]
  },
  {
   "cell_type": "code",
   "execution_count": 122,
   "metadata": {},
   "outputs": [
    {
     "name": "stdout",
     "output_type": "stream",
     "text": [
      "Calculating best minimal value for power law fit\n",
      "xmin progress: 00%\r",
      "xmin progress: 01%\r",
      "xmin progress: 03%\r",
      "xmin progress: 04%\r",
      "xmin progress: 06%\r",
      "xmin progress: 07%\r",
      "xmin progress: 09%\r",
      "xmin progress: 10%\r",
      "xmin progress: 12%\r",
      "xmin progress: 13%\r",
      "xmin progress: 15%\r",
      "xmin progress: 16%\r",
      "xmin progress: 18%\r",
      "xmin progress: 19%\r",
      "xmin progress: 21%\r",
      "xmin progress: 22%\r",
      "xmin progress: 24%\r",
      "xmin progress: 25%\r",
      "xmin progress: 27%\r",
      "xmin progress: 28%\r",
      "xmin progress: 30%\r",
      "xmin progress: 31%\r",
      "xmin progress: 33%\r",
      "xmin progress: 34%\r",
      "xmin progress: 36%\r",
      "xmin progress: 37%\r",
      "xmin progress: 39%\r",
      "xmin progress: 40%\r",
      "xmin progress: 42%\r",
      "xmin progress: 43%\r",
      "xmin progress: 45%\r",
      "xmin progress: 46%\r",
      "xmin progress: 48%\r",
      "xmin progress: 50%\r",
      "xmin progress: 51%\r",
      "xmin progress: 53%\r",
      "xmin progress: 54%\r",
      "xmin progress: 56%\r",
      "xmin progress: 57%\r",
      "xmin progress: 59%\r",
      "xmin progress: 60%\r",
      "xmin progress: 62%\r",
      "xmin progress: 63%\r",
      "xmin progress: 65%\r",
      "xmin progress: 66%\r",
      "xmin progress: 68%\r",
      "xmin progress: 69%\r",
      "xmin progress: 71%\r",
      "xmin progress: 72%\r",
      "xmin progress: 74%\r",
      "xmin progress: 75%\r",
      "xmin progress: 77%\r",
      "xmin progress: 78%\r",
      "xmin progress: 80%\r",
      "xmin progress: 81%\r",
      "xmin progress: 83%\r",
      "xmin progress: 84%\r",
      "xmin progress: 86%\r",
      "xmin progress: 87%\r",
      "xmin progress: 89%\r",
      "xmin progress: 90%\r",
      "xmin progress: 92%\r",
      "xmin progress: 93%\r",
      "xmin progress: 95%\r",
      "xmin progress: 96%\r",
      "xmin progress: 98%\r",
      "Powerlaw CCDF Fit: 11.0355 x ^ -1.3902 (k_min = 51)\n"
     ]
    },
    {
     "name": "stderr",
     "output_type": "stream",
     "text": [
      "C:\\Users\\lilir\\AppData\\Local\\Temp\\ipykernel_6976\\1974784645.py:11: FutureWarning: Calling int on a single element Series is deprecated and will raise a TypeError in the future. Use int(ser.iloc[0]) instead\n",
      "  print(\"Powerlaw CCDF Fit: %1.4f x ^ -%1.4f (k_min = %d)\" % (10 ** results.power_law.Kappa, results.power_law.alpha, k_min))\n"
     ]
    },
    {
     "data": {
      "image/png": "[encoded data removed]",
      "text/plain": [
       "<Figure size 432x288 with 1 Axes>"
      ]
     },
     "metadata": {
      "needs_background": "light"
     },
     "output_type": "display_data"
    }
   ],
   "source": [
    "generate_ccdf_in(G)"
   ]
  },
  {
   "cell_type": "code",
   "execution_count": null,
   "metadata": {},
   "outputs": [],
   "source": []
  }
 ],
 "metadata": {
  "kernelspec": {
   "display_name": "Python 3 (ipykernel)",
   "language": "python",
   "name": "python3"
  },
  "language_info": {
   "codemirror_mode": {
    "name": "ipython",
    "version": 3
   },
   "file_extension": ".py",
   "mimetype": "text/x-python",
   "name": "python",
   "nbconvert_exporter": "python",
   "pygments_lexer": "ipython3",
   "version": "3.9.12"
  }
 },
 "nbformat": 4,
 "nbformat_minor": 2
}
