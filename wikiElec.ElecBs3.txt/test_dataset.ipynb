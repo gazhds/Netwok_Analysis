{
 "cells": [
  {
   "cell_type": "code",
   "execution_count": 2,
   "metadata": {},
   "outputs": [],
   "source": [
    "import pandas as pd"
   ]
  },
  {
   "cell_type": "code",
   "execution_count": 13,
   "metadata": {},
   "outputs": [
    {
     "name": "stdout",
     "output_type": "stream",
     "text": [
      "      E                    T                   U                    N  \\\n",
      "0     1  2004-09-21 01:15:53        30\\tcjcurrie            32\\tandyl   \n",
      "1     1  2004-09-21 20:49:47           54\\tzoney       28\\tneutrality   \n",
      "2     1  2004-09-18 09:54:32  61\\tgerald_farinas       28\\tneutrality   \n",
      "3     1  2006-11-02 22:01:34         6\\tandrevan          70\\tnode_ue   \n",
      "4     1  2004-09-17 00:41:00        38\\tarminius  55\\tthecustomoflife   \n",
      "...  ..                  ...                 ...                  ...   \n",
      "2789  0  2008-01-06 02:18:28    6924\\tdreamafter          -1\\tUNKNOWN   \n",
      "2790  0  2008-01-06 00:49:34   8271\\tcuyler91093          -1\\tUNKNOWN   \n",
      "2791  0  2008-01-06 02:09:40      8263\\tgromlakh          -1\\tUNKNOWN   \n",
      "2792  0  2008-01-06 00:15:01    6924\\tdreamafter          -1\\tUNKNOWN   \n",
      "2793  0  2008-01-06 01:14:38         6307\\tolz06          -1\\tUNKNOWN   \n",
      "\n",
      "                                              V  \n",
      "0             1\\t24\\t2004-09-20 22:20:00\\tjayjg  \n",
      "1            1\\t29\\t2004-09-21 00:55:00\\tugen64  \n",
      "2           1\\t47\\t2004-09-18 09:18:00\\trebecca  \n",
      "3            1\\t39\\t2004-09-18 07:34:00\\tsquash  \n",
      "4        1\\t23\\t2004-09-17 00:41:00\\tcryptoderk  \n",
      "...                                         ...  \n",
      "2789   -1\\t5814\\t2008-01-06 02:16:00\\tdarkfalls  \n",
      "2790       -1\\t5800\\t2008-01-06 00:17:00\\tpedro  \n",
      "2791  -1\\t8243\\t2008-01-06 01:09:00\\trazorflame  \n",
      "2792  -1\\t7280\\t2007-11-14 02:20:00\\tglasscobra  \n",
      "2793      -1\\t3404\\t2008-01-06 01:09:00\\tkukini  \n",
      "\n",
      "[2794 rows x 5 columns]\n"
     ]
    }
   ],
   "source": [
    "# Open the text file and read it line by line\n",
    "with open('wikiElec.ElecBs3.txt', 'r', encoding = 'latin1') as file:\n",
    "    lines = file.readlines()\n",
    "\n",
    "# Initialize variables to store the data\n",
    "data = []\n",
    "current_entry = {}  # Dictionary to store data for the current entry\n",
    "\n",
    "# Loop through each line and parse the data\n",
    "for line in lines:\n",
    "    line = line.strip()  # Remove leading/trailing whitespace\n",
    "    if not line:  # Skip empty lines\n",
    "        continue\n",
    "\n",
    "    # Split the line into two parts: the prefix and the content\n",
    "    prefix, content = line[0], line[2:]\n",
    "\n",
    "    # Process the lines based on their prefixes\n",
    "    if prefix == 'E':\n",
    "        if current_entry:\n",
    "            data.append(current_entry)  # Add the previous entry to the data list\n",
    "        current_entry = {'E': content}\n",
    "    else:\n",
    "        current_entry[prefix] = content\n",
    "\n",
    "# Append the last entry to the data list\n",
    "if current_entry:\n",
    "    data.append(current_entry)\n",
    "\n",
    "# Create a DataFrame from the list of dictionaries\n",
    "df = pd.DataFrame(data)\n",
    "\n",
    "# Optionally, rename columns for better readability\n",
    "#df = df.rename(columns={'E': 'Entry', 'T': 'Timestamp', 'U': 'User', 'N': 'NValue', 'V': 'VValue'})\n",
    "\n",
    "# Convert the 'Timestamp' column to datetime if needed\n",
    "\n",
    "# Print the DataFrame\n",
    "print(df)\n"
   ]
  },
  {
   "cell_type": "code",
   "execution_count": null,
   "metadata": {},
   "outputs": [],
   "source": []
  }
 ],
 "metadata": {
  "kernelspec": {
   "display_name": "Base",
   "language": "python",
   "name": "python3"
  },
  "language_info": {
   "codemirror_mode": {
    "name": "ipython",
    "version": 3
   },
   "file_extension": ".py",
   "mimetype": "text/x-python",
   "name": "python",
   "nbconvert_exporter": "python",
   "pygments_lexer": "ipython3",
   "version": "3.11.5"
  }
 },
 "nbformat": 4,
 "nbformat_minor": 2
}
