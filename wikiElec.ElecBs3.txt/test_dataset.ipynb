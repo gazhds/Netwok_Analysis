{
 "cells": [
  {
   "cell_type": "code",
   "execution_count": 1,
   "metadata": {},
   "outputs": [],
   "source": [
    "import pandas as pd"
   ]
  },
  {
   "cell_type": "code",
   "execution_count": 8,
   "metadata": {},
   "outputs": [
    {
     "name": "stdout",
     "output_type": "stream",
     "text": [
      "                                                   #    E  \\\n",
      "0    V: <vote(1:support, 0:neutral, -1:oppose)> <...  NaN   \n",
      "1                                                NaN    1   \n",
      "\n",
      "                     T             U          N  \\\n",
      "0                  NaN           NaN        NaN   \n",
      "1  2004-09-21 01:15:53  30\\tcjcurrie  32\\tandyl   \n",
      "\n",
      "                                   V  \n",
      "0                                NaN  \n",
      "1  1\\t24\\t2004-09-20 22:20:00\\tjayjg  \n"
     ]
    }
   ],
   "source": [
    "# Open the text file and read it line by line\n",
    "with open('wikiElec.ElecBs3.txt', 'r', encoding = 'latin1') as file:\n",
    "    lines = file.readlines()\n",
    "\n",
    "# Initialize variables to store the data\n",
    "data = []\n",
    "current_entry = {}  # Dictionary to store data for the current entry\n",
    "\n",
    "# Loop through each line and parse the data\n",
    "for line in lines:\n",
    "    line = line.strip()  # Remove leading/trailing whitespace\n",
    "    if not line:  # Skip empty lines\n",
    "        continue\n",
    "\n",
    "    # Split the line into two parts: the prefix and the content\n",
    "    prefix, content = line[0], line[2:]\n",
    "\n",
    "    # Process the lines based on their prefixes\n",
    "    if prefix == 'E':\n",
    "        if current_entry:\n",
    "            data.append(current_entry)  # Add the previous entry to the data list\n",
    "        current_entry = {'E': content}\n",
    "    else:\n",
    "        current_entry[prefix] = content\n",
    "\n",
    "# Append the last entry to the data list\n",
    "if current_entry:\n",
    "    data.append(current_entry)\n",
    "\n",
    "# Create a DataFrame from the list of dictionaries\n",
    "df = pd.DataFrame(data)\n",
    "\n",
    "# Optionally, rename columns for better readability\n",
    "#df = df.rename(columns={'E': 'Entry', 'T': 'Timestamp', 'U': 'User', 'N': 'NValue', 'V': 'VValue'})\n",
    "\n",
    "# Convert the 'Timestamp' column to datetime if needed\n",
    "\n",
    "# Print the DataFrame\n",
    "print(df[:2])\n"
   ]
  },
  {
   "cell_type": "code",
   "execution_count": null,
   "metadata": {},
   "outputs": [],
   "source": []
  }
 ],
 "metadata": {
  "kernelspec": {
   "display_name": "Base",
   "language": "python",
   "name": "python3"
  },
  "language_info": {
   "codemirror_mode": {
    "name": "ipython",
    "version": 3
   },
   "file_extension": ".py",
   "mimetype": "text/x-python",
   "name": "python",
   "nbconvert_exporter": "python",
   "pygments_lexer": "ipython3",
   "version": "3.10.11"
  }
 },
 "nbformat": 4,
 "nbformat_minor": 2
}
